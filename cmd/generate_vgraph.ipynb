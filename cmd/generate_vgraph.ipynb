{
 "cells": [
  {
   "cell_type": "code",
   "execution_count": 2,
   "metadata": {},
   "outputs": [],
   "source": [
    "import random\n",
    "import sys\n",
    "from subprocess import call\n",
    "from rdflib import Graph\n",
    "import pprint\n",
    "import random"
   ]
  },
  {
   "cell_type": "code",
   "execution_count": 3,
   "metadata": {},
   "outputs": [],
   "source": [
    "def write_hyperedge(file_name, hyperedge, version_start, version_end):\n",
    "    with open(file_name, 'a') as hyperedge_file:\n",
    "        '''\n",
    "        s = \"<\" + str(hyperedge[1]) + \">\"\n",
    "        p = \"<\" + str(hyperedge[0]) + \">\"\n",
    "        o = \"<\" + str(hyperedge[2]) + \">\"\n",
    "        v1 = \"<\" + str(version_start) + \">\"\n",
    "        v2 = \"<\" + str(version_end) + \">\"\n",
    "        '''\n",
    "        s = str(hyperedge[0]) \n",
    "        p =  str(hyperedge[1]) \n",
    "        o =  str(hyperedge[2]) \n",
    "        v1 =  str(version_start)\n",
    "        v2 =   str(version_end) \n",
    "        #ADD VERSION PART FOR VGRAPH\n",
    "        final_edge= p + \"\\t\" + s + \"\\t\" + o #+ \"\\t\" + v1 + \"\\t\" + v2\n",
    "        hyperedge_file.write(final_edge + \"\\n\")\n",
    "        hyperedge_file.close()"
   ]
  },
  {
   "cell_type": "code",
   "execution_count": 4,
   "metadata": {},
   "outputs": [],
   "source": [
    "\n",
    "\n",
    "#CHANGE\n",
    "str_len = 4\n",
    "num_node_labels = 1000\n",
    "num_edge_labels = 4\n",
    "num_edges = 1000\n",
    "og_ending = \".ttl\"\n",
    "new_ending = \".nq\"\n",
    "min_version = 0\n",
    "max_version = 10\n",
    "\n",
    "#CHANGE\n",
    "while(num_node_labels <= 10000):\n",
    "    #CHANGE\n",
    "    call([\"mkdir\",\"/home/dtkhuat/results_version/random_graphs/var_num_nodes/\"+str(num_node_labels)])\n",
    "    \n",
    "    for file_num in range(0,100):\n",
    "        #CHANGE\n",
    "        path = \"/home/dtkhuat/results/random_graphs/var_num_nodes/\" + str(num_node_labels) + \"/\"\n",
    "        path_v = \"/home/dtkhuat/results_version/random_graphs/var_num_nodes/\" + str(num_node_labels) + \"/\" + \"random_\" + str(num_node_labels) + \"_\" + str(num_edge_labels) + \"_\" + str(num_edges) + \"_\" +str(file_num) + \"_\" +str(min_version) + \"_\" +str(max_version)\n",
    "        \n",
    "        g = Graph()\n",
    "        g.parse(path + \"random_\" + str(num_node_labels) + \"_\" + str(num_edge_labels) + \"_\" + str(num_edges) + \"_\" +str(file_num) + og_ending, format='ttl')\n",
    "        line_counter = 0\n",
    "        for subject, predicate, object in g:\n",
    "            #print(subject.replace(\"file://\"+path, \"\"), predicate.replace(\"file://\"+path, \"\"), object.replace(\"file://\"+path, \"\"))\n",
    "            s = subject.replace(\"file://\"+path, \"\")\n",
    "            p = predicate.replace(\"file://\"+path, \"\")\n",
    "            o = object.replace(\"file://\"+path, \"\")\n",
    "            start = random.randint(min_version,max_version)\n",
    "            if start > max_version - 2:\n",
    "                end = random.randint(max_version-1,max_version)\n",
    "            else:\n",
    "                end = random.randint(start,max_version)\n",
    "            #CHANGE\n",
    "            \n",
    "            write_hyperedge(path_v,[s, p, o], start, end)\n",
    "            line_counter = line_counter + 1\n",
    "            extender = random.random()\n",
    "            #CHANGE\n",
    "            while(extender < 0.1 and end < (max_version-1) and line_counter < 1000):\n",
    "                start = random.randint(end+2,max_version)\n",
    "                end = random.randint(start,max_version)\n",
    "                write_hyperedge(path_v,[s, p, o], start, end)\n",
    "                line_counter = line_counter + 1\n",
    "            #CHANGE\n",
    "            if(line_counter >= 1000):\n",
    "                break\n",
    "    \n",
    "        \n",
    "    #CHANGE\n",
    "    num_node_labels = num_node_labels + 1000"
   ]
  },
  {
   "cell_type": "code",
   "execution_count": 6,
   "metadata": {},
   "outputs": [],
   "source": [
    "\n",
    "\n",
    "#CHANGE\n",
    "str_len = 4\n",
    "num_node_labels = 1000\n",
    "num_edge_labels = 4\n",
    "num_edges = 1000\n",
    "og_ending = \".ttl\"\n",
    "new_ending = \".nq\"\n",
    "min_version = 0\n",
    "max_version = 10\n",
    "\n",
    "#CHANGE\n",
    "while(max_version <= 100):\n",
    "    #CHANGE\n",
    "    call([\"mkdir\",\"/home/dtkhuat/results_version/random_graphs/var_version/\"+str(max_version)])\n",
    "    \n",
    "    for file_num in range(0,100):\n",
    "        #CHANGE\n",
    "        path = \"/home/dtkhuat/results/random_graphs/var_num_nodes/\" + str(1000) + \"/\"\n",
    "        path_v = \"/home/dtkhuat/results_version/random_graphs/var_version/\" + str(max_version) + \"/\" + \"random_\" + str(num_node_labels) + \"_\" + str(num_edge_labels) + \"_\" + str(num_edges) + \"_\" +str(file_num) + \"_\" +str(min_version) + \"_\" +str(max_version)\n",
    "        \n",
    "        g = Graph()\n",
    "        g.parse(path + \"random_\" + str(num_node_labels) + \"_\" + str(num_edge_labels) + \"_\" + str(num_edges) + \"_\" +str(file_num) + og_ending, format='ttl')\n",
    "        line_counter = 0\n",
    "        for subject, predicate, object in g:\n",
    "            #print(subject.replace(\"file://\"+path, \"\"), predicate.replace(\"file://\"+path, \"\"), object.replace(\"file://\"+path, \"\"))\n",
    "            s = subject.replace(\"file://\"+path, \"\")\n",
    "            p = predicate.replace(\"file://\"+path, \"\")\n",
    "            o = object.replace(\"file://\"+path, \"\")\n",
    "            start = random.randint(min_version,max_version)\n",
    "            if start > max_version - 2:\n",
    "                end = random.randint(max_version-1,max_version)\n",
    "            else:\n",
    "                end = random.randint(start,max_version)\n",
    "            #CHANGE\n",
    "            \n",
    "            write_hyperedge(path_v,[s, p, o], start, end)\n",
    "            line_counter = line_counter + 1\n",
    "            extender = random.random()\n",
    "            #CHANGE\n",
    "            while(extender < 0.1 and end < (max_version-1) and line_counter < num_edges):\n",
    "                start = random.randint(end+2,max_version)\n",
    "                end = random.randint(start,max_version)\n",
    "                write_hyperedge(path_v,[s, p, o], start, end)\n",
    "                line_counter = line_counter + 1\n",
    "            #CHANGE\n",
    "            if(line_counter >= num_edges):\n",
    "                break\n",
    "    \n",
    "        \n",
    "    #CHANGE\n",
    "    max_version = max_version + 10"
   ]
  },
  {
   "cell_type": "code",
   "execution_count": 6,
   "metadata": {},
   "outputs": [
    {
     "data": {
      "text/plain": [
       "9"
      ]
     },
     "execution_count": 6,
     "metadata": {},
     "output_type": "execute_result"
    }
   ],
   "source": [
    "random.randint(9,9)"
   ]
  },
  {
   "cell_type": "code",
   "execution_count": 15,
   "metadata": {},
   "outputs": [
    {
     "ename": "Warning",
     "evalue": "Expected one of ['.nt', '.nts'] but got .ttl instead",
     "output_type": "error",
     "traceback": [
      "\u001b[0;31m---------------------------------------------------------------------------\u001b[0m",
      "\u001b[0;31mWarning\u001b[0m                                   Traceback (most recent call last)",
      "Cell \u001b[0;32mIn[15], line 3\u001b[0m\n\u001b[1;32m      1\u001b[0m \u001b[38;5;28;01mfrom\u001b[39;00m \u001b[38;5;21;01mrdf\u001b[39;00m \u001b[38;5;28;01mimport\u001b[39;00m NTriples\n\u001b[0;32m----> 3\u001b[0m g \u001b[38;5;241m=\u001b[39m \u001b[43mNTriples\u001b[49m\u001b[43m(\u001b[49m\u001b[38;5;124;43m\"\u001b[39;49m\u001b[38;5;124;43m/home/dtkhuat/results/random_graphs/var_edge_len/4/random_1000_4_1000_0.ttl\u001b[39;49m\u001b[38;5;124;43m\"\u001b[39;49m\u001b[43m,\u001b[49m\u001b[43m \u001b[49m\u001b[43mmode\u001b[49m\u001b[43m \u001b[49m\u001b[38;5;241;43m=\u001b[39;49m\u001b[43m \u001b[49m\u001b[38;5;124;43m'\u001b[39;49m\u001b[38;5;124;43mr\u001b[39;49m\u001b[38;5;124;43m'\u001b[39;49m\u001b[43m)\u001b[49m\n\u001b[1;32m      5\u001b[0m \u001b[38;5;28mprint\u001b[39m(\u001b[38;5;28mlen\u001b[39m(g))\n",
      "File \u001b[0;32m/home/linuxbrew/.linuxbrew/Cellar/python@3.11/3.11.7_1/lib/python3.11/site-packages/rdf/formats.py:312\u001b[0m, in \u001b[0;36mNTriples.__init__\u001b[0;34m(self, path, mode, data, encoding)\u001b[0m\n\u001b[1;32m    309\u001b[0m \u001b[38;5;28;01mdef\u001b[39;00m \u001b[38;5;21m__init__\u001b[39m(\u001b[38;5;28mself\u001b[39m, path:Optional[\u001b[38;5;28mstr\u001b[39m] \u001b[38;5;241m=\u001b[39m \u001b[38;5;28;01mNone\u001b[39;00m, mode:Choices[\u001b[38;5;124m'\u001b[39m\u001b[38;5;124mr\u001b[39m\u001b[38;5;124m'\u001b[39m, \u001b[38;5;124m'\u001b[39m\u001b[38;5;124mw\u001b[39m\u001b[38;5;124m'\u001b[39m] \u001b[38;5;241m=\u001b[39m \u001b[38;5;124m'\u001b[39m\u001b[38;5;124mr\u001b[39m\u001b[38;5;124m'\u001b[39m,\n\u001b[1;32m    310\u001b[0m              data:Optional[Union[\u001b[38;5;28mstr\u001b[39m,\u001b[38;5;28mbytes\u001b[39m]] \u001b[38;5;241m=\u001b[39m \u001b[38;5;28;01mNone\u001b[39;00m,\n\u001b[1;32m    311\u001b[0m              encoding:\u001b[38;5;28mstr\u001b[39m \u001b[38;5;241m=\u001b[39m \u001b[38;5;124m'\u001b[39m\u001b[38;5;124mutf-8\u001b[39m\u001b[38;5;124m'\u001b[39m) \u001b[38;5;241m-\u001b[39m\u001b[38;5;241m>\u001b[39m \u001b[38;5;28;01mNone\u001b[39;00m:\n\u001b[0;32m--> 312\u001b[0m     \u001b[38;5;28;43msuper\u001b[39;49m\u001b[43m(\u001b[49m\u001b[43m)\u001b[49m\u001b[38;5;241;43m.\u001b[39;49m\u001b[38;5;21;43m__init__\u001b[39;49m\u001b[43m(\u001b[49m\u001b[43mpath\u001b[49m\u001b[43m,\u001b[49m\u001b[43m \u001b[49m\u001b[43mmode\u001b[49m\u001b[43m,\u001b[49m\u001b[43m \u001b[49m\u001b[43mdata\u001b[49m\u001b[43m,\u001b[49m\u001b[43m \u001b[49m\u001b[43mencoding\u001b[49m\u001b[43m,\u001b[49m\u001b[43m \u001b[49m\u001b[38;5;28;43mformat\u001b[39;49m\u001b[38;5;241;43m=\u001b[39;49m\u001b[38;5;124;43m\"\u001b[39;49m\u001b[38;5;124;43mntriples\u001b[39;49m\u001b[38;5;124;43m\"\u001b[39;49m\u001b[43m)\u001b[49m\n\u001b[1;32m    313\u001b[0m \u001b[38;5;250m    \u001b[39m\u001b[38;5;124;03m\"\"\" N-Triples (-Star) parser and serialization class\u001b[39;00m\n\u001b[1;32m    314\u001b[0m \n\u001b[1;32m    315\u001b[0m \u001b[38;5;124;03m    :param path: A path describing the location of an RDF file.\u001b[39;00m\n\u001b[0;32m   (...)\u001b[0m\n\u001b[1;32m    324\u001b[0m \u001b[38;5;124;03m    :rtype: None\u001b[39;00m\n\u001b[1;32m    325\u001b[0m \u001b[38;5;124;03m    \"\"\"\u001b[39;00m\n",
      "File \u001b[0;32m/home/linuxbrew/.linuxbrew/Cellar/python@3.11/3.11.7_1/lib/python3.11/site-packages/rdf/formats.py:60\u001b[0m, in \u001b[0;36mRDF_Serialization_Format.__init__\u001b[0;34m(self, path, mode, data, encoding, format)\u001b[0m\n\u001b[1;32m     58\u001b[0m _, fext \u001b[38;5;241m=\u001b[39m os\u001b[38;5;241m.\u001b[39mpath\u001b[38;5;241m.\u001b[39msplitext(\u001b[38;5;28mself\u001b[39m\u001b[38;5;241m.\u001b[39mpath)\n\u001b[1;32m     59\u001b[0m \u001b[38;5;28;01mif\u001b[39;00m fext \u001b[38;5;129;01mnot\u001b[39;00m \u001b[38;5;129;01min\u001b[39;00m ext:\n\u001b[0;32m---> 60\u001b[0m     \u001b[38;5;28;01mraise\u001b[39;00m \u001b[38;5;167;01mWarning\u001b[39;00m(\u001b[38;5;124mf\u001b[39m\u001b[38;5;124m\"\u001b[39m\u001b[38;5;124mExpected one of \u001b[39m\u001b[38;5;132;01m{\u001b[39;00mext\u001b[38;5;132;01m}\u001b[39;00m\u001b[38;5;124m but got \u001b[39m\u001b[38;5;132;01m{\u001b[39;00mfext\u001b[38;5;132;01m}\u001b[39;00m\u001b[38;5;124m instead\u001b[39m\u001b[38;5;124m\"\u001b[39m)\n\u001b[1;32m     62\u001b[0m \u001b[38;5;28mself\u001b[39m\u001b[38;5;241m.\u001b[39m_file \u001b[38;5;241m=\u001b[39m \u001b[38;5;28mopen\u001b[39m(\u001b[38;5;28mself\u001b[39m\u001b[38;5;241m.\u001b[39mpath, \u001b[38;5;28mself\u001b[39m\u001b[38;5;241m.\u001b[39mmode, encoding\u001b[38;5;241m=\u001b[39mencoding)\n",
      "\u001b[0;31mWarning\u001b[0m: Expected one of ['.nt', '.nts'] but got .ttl instead"
     ]
    }
   ],
   "source": [
    "from rdf import NTriples\n",
    "\n",
    "g = NTriples(\"/home/dtkhuat/results/random_graphs/var_edge_len/4/random_1000_4_1000_0.ttl\", mode = 'r')\n",
    "\n",
    "print(len(g))"
   ]
  }
 ],
 "metadata": {
  "kernelspec": {
   "display_name": "Python 3",
   "language": "python",
   "name": "python3"
  },
  "language_info": {
   "codemirror_mode": {
    "name": "ipython",
    "version": 3
   },
   "file_extension": ".py",
   "mimetype": "text/x-python",
   "name": "python",
   "nbconvert_exporter": "python",
   "pygments_lexer": "ipython3",
   "version": "3.11.7"
  }
 },
 "nbformat": 4,
 "nbformat_minor": 2
}
