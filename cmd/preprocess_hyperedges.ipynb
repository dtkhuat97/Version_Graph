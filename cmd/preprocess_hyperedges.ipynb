{
 "cells": [
  {
   "cell_type": "code",
   "execution_count": 15,
   "metadata": {},
   "outputs": [],
   "source": [
    "import re\n",
    "from rdf import NQuads\n",
    "import math\n",
    "def write_hyperedge(file_name, hyperedge, version_start, version_end):\n",
    "    with open(file_name, 'a') as hyperedge_file:\n",
    "        '''\n",
    "        s = \"<\" + str(hyperedge[1]) + \">\"\n",
    "        p = \"<\" + str(hyperedge[0]) + \">\"\n",
    "        o = \"<\" + str(hyperedge[2]) + \">\"\n",
    "        v1 = \"<\" + str(version_start) + \">\"\n",
    "        v2 = \"<\" + str(version_end) + \">\"\n",
    "        '''\n",
    "        s = str(hyperedge[1])\n",
    "        s_r = s.replace(\"\\\\t\", \"\").replace(\"\\\\n\",\"\").replace(\"?\",\"x\")\n",
    "        p =  str(hyperedge[0])\n",
    "        p_r = p.replace(\"\\\\t\", \"\").replace(\"\\\\n\",\"\").replace(\"?\",\"x\")\n",
    "        o =  str(hyperedge[2])\n",
    "        o_r = o.replace(\"\\\\t\", \"\").replace(\"\\\\n\",\"\").replace(\"?\",\"x\")\n",
    "        v1 =  str(version_start)\n",
    "        v2 =   str(version_end)\n",
    "        if s_r == \"\":\n",
    "            s_r = \"y\"\n",
    "        if o_r == \"\":\n",
    "            o_r = \"y\"\n",
    "        if p_r == \"\":\n",
    "            p_r = \"y\"\n",
    "        #ADD VERSION PART FOR VERSION GRAPHS\n",
    "        final_edge= s_r + \"\\t\" + p_r + \"\\t\" + o_r #+ \"\\t\" + v1 + \"\\t\" + v2\n",
    "        hyperedge_file.write(final_edge + \"\\n\")\n",
    "        hyperedge_file.close()\n"
   ]
  },
  {
   "cell_type": "code",
   "execution_count": 31,
   "metadata": {},
   "outputs": [],
   "source": [
    "part = \"0\"\n",
    "f_name = \"/home/dtkhuat/raw_files/small/allData_p\" + part + \".nq\"\n",
    "g = NQuads(f_name, mode = 'r')\n",
    "j = 0\n",
    "num_versions = 57/10\n",
    "for triple in g.parse():\n",
    "    j = j+1\n",
    "    if 'http://example.org/version' in str(triple[3]):\n",
    "        continue\n",
    "    elif 'http://example.org/v' in str(triple[3]):\n",
    "        '''\n",
    "        temp = str(triple[3]).replace('http://example.org/v', '')\n",
    "        '''\n",
    "        temp = re.findall(r'\\d+', str(triple[3]))\n",
    "        i = 0\n",
    "        start = int(temp[i])\n",
    "        end = int(temp[i])\n",
    "        while i < len(temp):\n",
    "            #OUT OF BOUNDS\n",
    "            if i+1 == len(temp):\n",
    "                end = int(temp[i])\n",
    "                #write_hyperedge(\"/home/dtkhuat/preprocessed_files/allData5.txt\", triple[:3], start, end)\n",
    "                write_hyperedge(\"/home/dtkhuat/preprocessed_files/allData_p\"+part, triple[:3], int(math.ceil(start/num_versions)), int(math.ceil(end/num_versions)))\n",
    "            elif int(temp[i]) +1 == int(temp[i+1]) :\n",
    "                end = int(temp[i+1])\n",
    "            #IF VERSION IS CUT, PRINT VERSION AND INCREASE START AND END\n",
    "            else:\n",
    "                #write_hyperedge(\"/home/dtkhuat/preprocessed_files/allData5.txt\", triple[:3], start, end)\n",
    "                write_hyperedge(\"/home/dtkhuat/preprocessed_files/allData_p\"+part, triple[:3], int(math.ceil(start/num_versions)), int(math.ceil(end/num_versions)))\n",
    "                start = int(temp[i+1])\n",
    "                end = int(temp[i+1])\n",
    "            i = i+1\n"
   ]
  },
  {
   "cell_type": "code",
   "execution_count": 4,
   "metadata": {},
   "outputs": [
    {
     "data": {
      "text/plain": [
       "'Arisia Publications Advertising Rates\\nArisia is the largest fan-run science fiction convention in the northeast; activities cover all aspects of science fiction, fantasy and related interests. Membership typically ranges from 2000 to 2500 individuals.\\nThe convention is entirely volunteer run. It is normally held over Martin Luther King weekend in January at the Westin Waterfront Hotel in Boston. Events and educational programs occur round-the-clock from Friday through Monday. Our multi-track programming features over 250 program participants from many corners of the SF universe.\\nArisia publications, including a Souvenir Book, will reach an audience with diverse interests in books, arts, gaming, science and technology, films, TV, and other media. The Souvenir Book is professionally offset printed on white 60 lb. text stock with a glossy cover and both B&W and color pages. The Restaurant Guide is printed using DocuTech with B&W pages only.\\nArisia is a Service Mark of Arisia, Inc., a 501(c)3 non-profit literary organization. For information, write Arisia, Inc., PO Box 39-1596, Cambridge, MA 02139, e-mail info@arisia.org, or visit the Arisia corporate web site. For advertising, send email to ads@arisia.org.\\n\\n\\n\\tSouvenir Book Advertising Rates\\n\\n\\n\\t\\t\\t\\t\\tBlack and White Rates\\n\\n\\n\\t\\t\\t\\t?\\n\\n\\t\\t\\t\\tSize\\n\\n\\t\\t\\t\\t?\\n\\n\\t\\t\\t\\tRetail Rates\\n\\t\\t\\t\\n\\n\\t\\t\\t\\tSemi-Pro\\n\\t\\t\\t\\n\\n\\t\\t\\t\\tFan Rates\\n\\t\\t\\t\\n\\n\\t\\t\\t\\t?\\n\\n\\t\\t\\t\\t?\\n\\n\\t\\t\\t\\t?\\n\\n\\t\\t\\t\\t?\\n\\n\\t\\t\\t\\tFull Page\\n\\n\\t\\t\\t\\t?\\n\\n\\t\\t\\t\\t?\\n\\n\\t\\t\\t\\t?\\n\\n\\t\\t\\t\\t\\n\\t\\t\\t\\t\\t$ 500.00\\n\\t\\t\\t\\n\\n\\t\\t\\t\\t\\n\\t\\t\\t\\t\\t$ 250.00\\n\\t\\t\\t\\n\\n\\t\\t\\t\\t\\n\\t\\t\\t\\t\\t$ 125.00\\n\\t\\t\\t\\n\\n\\t\\t\\t\\t?\\n\\n\\t\\t\\t\\tHalf Page\\n\\n\\t\\t\\t\\t?\\n\\n\\t\\t\\t\\t?\\n\\n\\t\\t\\t\\t?\\n\\n\\t\\t\\t\\t\\n\\t\\t\\t\\t\\t$ 300.00\\n\\t\\t\\t\\n\\n\\t\\t\\t\\t\\n\\t\\t\\t\\t\\t$ 150.00\\n\\t\\t\\t\\n\\n\\t\\t\\t\\t\\n\\t\\t\\t\\t\\t$ 75.00\\n\\t\\t\\t\\n\\n\\t\\t\\t\\t?\\n\\n\\t\\t\\t\\tThird Page\\n\\n\\t\\t\\t\\t?\\n\\n\\t\\t\\t\\t?\\n\\n\\t\\t\\t\\t?\\n\\n\\t\\t\\t\\t\\n\\t\\t\\t\\t\\t$ 250'"
      ]
     },
     "execution_count": 4,
     "metadata": {},
     "output_type": "execute_result"
    }
   ],
   "source": [
    "bla = \"Arisia Publications Advertising Rates\\nArisia is the largest fan-run science fiction convention in the northeast; activities cover all aspects of science fiction, fantasy and related interests. Membership typically ranges from 2000 to 2500 individuals.\\nThe convention is entirely volunteer run. It is normally held over Martin Luther King weekend in January at the Westin Waterfront Hotel in Boston. Events and educational programs occur round-the-clock from Friday through Monday. Our multi-track programming features over 250 program participants from many corners of the SF universe.\\nArisia publications, including a Souvenir Book, will reach an audience with diverse interests in books, arts, gaming, science and technology, films, TV, and other media. The Souvenir Book is professionally offset printed on white 60 lb. text stock with a glossy cover and both B&W and color pages. The Restaurant Guide is printed using DocuTech with B&W pages only.\\nArisia is a Service Mark of Arisia, Inc., a 501(c)3 non-profit literary organization. For information, write Arisia, Inc., PO Box 39-1596, Cambridge, MA 02139, e-mail info@arisia.org, or visit the Arisia corporate web site. For advertising, send email to ads@arisia.org.\\n\\n\\n\\tSouvenir Book Advertising Rates\\n\\n\\n\\t\\t\\t\\t\\tBlack and White Rates\\n\\n\\n\\t\\t\\t\\t?\\n\\n\\t\\t\\t\\tSize\\n\\n\\t\\t\\t\\t?\\n\\n\\t\\t\\t\\tRetail Rates\\n\\t\\t\\t\\n\\n\\t\\t\\t\\tSemi-Pro\\n\\t\\t\\t\\n\\n\\t\\t\\t\\tFan Rates\\n\\t\\t\\t\\n\\n\\t\\t\\t\\t?\\n\\n\\t\\t\\t\\t?\\n\\n\\t\\t\\t\\t?\\n\\n\\t\\t\\t\\t?\\n\\n\\t\\t\\t\\tFull Page\\n\\n\\t\\t\\t\\t?\\n\\n\\t\\t\\t\\t?\\n\\n\\t\\t\\t\\t?\\n\\n\\t\\t\\t\\t\\n\\t\\t\\t\\t\\t$ 500.00\\n\\t\\t\\t\\n\\n\\t\\t\\t\\t\\n\\t\\t\\t\\t\\t$ 250.00\\n\\t\\t\\t\\n\\n\\t\\t\\t\\t\\n\\t\\t\\t\\t\\t$ 125.00\\n\\t\\t\\t\\n\\n\\t\\t\\t\\t?\\n\\n\\t\\t\\t\\tHalf Page\\n\\n\\t\\t\\t\\t?\\n\\n\\t\\t\\t\\t?\\n\\n\\t\\t\\t\\t?\\n\\n\\t\\t\\t\\t\\n\\t\\t\\t\\t\\t$ 300.00\\n\\t\\t\\t\\n\\n\\t\\t\\t\\t\\n\\t\\t\\t\\t\\t$ 150.00\\n\\t\\t\\t\\n\\n\\t\\t\\t\\t\\n\\t\\t\\t\\t\\t$ 75.00\\n\\t\\t\\t\\n\\n\\t\\t\\t\\t?\\n\\n\\t\\t\\t\\tThird Page\\n\\n\\t\\t\\t\\t?\\n\\n\\t\\t\\t\\t?\\n\\n\\t\\t\\t\\t?\\n\\n\\t\\t\\t\\t\\n\\t\\t\\t\\t\\t$ 250\"\n",
    "bla.replace(\"\\\\t\", \"\").replace(\"\\\\n\",\"\")"
   ]
  },
  {
   "cell_type": "markdown",
   "metadata": {},
   "source": [
    "##TRYOUT"
   ]
  },
  {
   "cell_type": "code",
   "execution_count": 5,
   "metadata": {},
   "outputs": [
    {
     "ename": "IndentationError",
     "evalue": "unexpected indent (2632257791.py, line 12)",
     "output_type": "error",
     "traceback": [
      "\u001b[0;36m  Cell \u001b[0;32mIn[5], line 12\u001b[0;36m\u001b[0m\n\u001b[0;31m    '''\u001b[0m\n\u001b[0m    ^\u001b[0m\n\u001b[0;31mIndentationError\u001b[0m\u001b[0;31m:\u001b[0m unexpected indent\n"
     ]
    }
   ],
   "source": [
    "'''\n",
    "g = NQuads(\"/home/dtkhuat/raw_files/allData_p10.nq\", mode = 'r')\n",
    "j = 0\n",
    "num_versions = 57/10\n",
    "for triple in g.parse():\n",
    "    j = j+1\n",
    "    if 'http://example.org/version' in str(triple[3]):\n",
    "        continue\n",
    "    elif 'http://example.org/v' in str(triple[3]):\n",
    "        '''\n",
    "        #temp = str(triple[3]).replace('http://example.org/v', '')\n",
    "        '''\n",
    "        temp = re.findall(r'\\d+', str(triple[3]))\n",
    "        i = 0\n",
    "        #int(math.floor(temp[i]/num_versions))\n",
    "        start = int(math.floor(int(temp[i])/num_versions))\n",
    "        end = int(math.floor(int(temp[i])/num_versions))\n",
    "        while i < len(temp):\n",
    "            #OUT OF BOUNDS\n",
    "            if i+1 == len(temp):\n",
    "                end = int(math.floor(int(temp[i])/num_versions))\n",
    "                #write_hyperedge(\"/home/dtkhuat/preprocessed_files/allData5.txt\", triple[:3], start, end)\n",
    "                write_hyperedge(\"/home/dtkhuat/preprocessed_files/allData_p11\", triple[:3], start, end)\n",
    "            elif int(math.floor(int(temp[i])/num_versions)) +1 == int(math.floor(int(temp[i+1])/num_versions)) :\n",
    "                end = int(math.floor(int(temp[i+1])/num_versions))\n",
    "            #IF VERSION IS CUT, PRINT VERSION AND INCREASE START AND END\n",
    "            else:\n",
    "                #write_hyperedge(\"/home/dtkhuat/preprocessed_files/allData5.txt\", triple[:3], start, end)\n",
    "                write_hyperedge(\"/home/dtkhuat/preprocessed_files/allData_p11\", triple[:3], start, end)\n",
    "                start = int(math.floor(int(temp[i+1])/num_versions))\n",
    "                end = int(math.floor(int(temp[i+1])/num_versions))\n",
    "            i = i+1\n",
    "'''"
   ]
  },
  {
   "cell_type": "code",
   "execution_count": 32,
   "metadata": {},
   "outputs": [
    {
     "name": "stdout",
     "output_type": "stream",
     "text": [
      "10\n"
     ]
    }
   ],
   "source": [
    "print(part)"
   ]
  },
  {
   "cell_type": "markdown",
   "metadata": {},
   "source": [
    "###REMOVE DOUBLE LINES"
   ]
  },
  {
   "cell_type": "code",
   "execution_count": 14,
   "metadata": {},
   "outputs": [
    {
     "name": "stdout",
     "output_type": "stream",
     "text": [
      "253197\n"
     ]
    }
   ],
   "source": [
    "part = \"10\"\n",
    "path_1 = \"/home/dtkhuat/preprocessed_files/final2/allData_p\"+ part #CHANGE\n",
    "path_2 = \"/home/dtkhuat/preprocessed_files/allData_p\" + part  #CHANGE\n",
    "\n",
    "line_counter = 0\n",
    "prev_line = \"\"\n",
    "bla_counter = 0\n",
    "with open(path_1, 'a') as file_1, open(path_2, 'r') as file_2:\n",
    "    \n",
    "    '''\n",
    "    if line_counter == 500000:\n",
    "        file_1.close()\n",
    "        file_2.close()\n",
    "    '''\n",
    "    for line in file_2:\n",
    "        if len(line) > 4000:\n",
    "            continue\n",
    "        if not line.isascii():\n",
    "            continue\n",
    "        if line_counter == 0 :\n",
    "            file_1.write(line)\n",
    "            \n",
    "        '''\n",
    "        if \"\\\\t\\\\t\" in line:\n",
    "            print(\"hi\")\n",
    "            line = line.replace(\"\\\\t\\\\t\", \"\\\\ty\\\\t\")\n",
    "        '''\n",
    "        if line_counter > 0:\n",
    "            if prev_line == line:\n",
    "                bla_counter = bla_counter +1\n",
    "                continue\n",
    "            else:\n",
    "                file_1.write(line)\n",
    "        line_counter = line_counter + 1\n",
    "        prev_line = line\n",
    "print(bla_counter)\n",
    "        "
   ]
  }
 ],
 "metadata": {
  "kernelspec": {
   "display_name": "Python 3",
   "language": "python",
   "name": "python3"
  },
  "language_info": {
   "codemirror_mode": {
    "name": "ipython",
    "version": 3
   },
   "file_extension": ".py",
   "mimetype": "text/x-python",
   "name": "python",
   "nbconvert_exporter": "python",
   "pygments_lexer": "ipython3",
   "version": "3.11.7"
  }
 },
 "nbformat": 4,
 "nbformat_minor": 2
}
