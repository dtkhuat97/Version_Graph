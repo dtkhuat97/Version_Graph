{
 "cells": [
  {
   "cell_type": "code",
   "execution_count": null,
   "metadata": {},
   "outputs": [],
   "source": []
  },
  {
   "cell_type": "markdown",
   "metadata": {},
   "source": [
    "#CREATED TIMING CSV"
   ]
  },
  {
   "cell_type": "code",
   "execution_count": null,
   "metadata": {},
   "outputs": [],
   "source": [
    "from subprocess import call\n",
    "import csv\n",
    "import os\n",
    "\n",
    "#compressed_name = \"dnb_set=authorities_partition=werk_compressed\"\n",
    "\n",
    "\n",
    "date = \"03_06_2024\"\n",
    "num_node_labels = 1000\n",
    "num_edge_labels = 4\n",
    "num_edges = 1000\n",
    "str_len = 4\n",
    "increment = 4\n",
    "\n",
    "researched_path = \"var_num_edge_labels/\"\n",
    "while num_edge_labels <= 32:\n",
    "    researched = str(num_edge_labels)\n",
    "    path_og = \"/home/dtkhuat/results_version/random_graphs/\"+ researched_path + researched + \"/\"\n",
    "    path_incidence =  \"/home/dtkhuat/results_version/version_itr/random_graphs_compressed/\"+researched_path +researched+\"/\"\n",
    "    path_index = \"/home/dtkhuat/results_version/version_itr/random_graphs_compressed/\"+researched_path +researched+\"/\""
   ]
  }
 ],
 "metadata": {
  "language_info": {
   "name": "python"
  }
 },
 "nbformat": 4,
 "nbformat_minor": 2
}
