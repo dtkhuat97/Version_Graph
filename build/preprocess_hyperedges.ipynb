{
 "cells": [
  {
   "cell_type": "code",
   "execution_count": 3,
   "metadata": {},
   "outputs": [
    {
     "name": "stdout",
     "output_type": "stream",
     "text": [
      "0\n"
     ]
    }
   ],
   "source": [
    "from rdflib import Graph\n",
    "\n",
    "g = Graph()\n",
    "g.parse(\"/home/dtkhuat/raw_files/allData.nq\", format = \"nquads\")\n",
    "\n",
    "print(len(g))"
   ]
  },
  {
   "cell_type": "code",
   "execution_count": 1,
   "metadata": {},
   "outputs": [],
   "source": [
    "import re\n",
    "from rdf import NQuads\n",
    "import math\n",
    "def write_hyperedge(file_name, hyperedge, version_start, version_end):\n",
    "    with open(file_name, 'a') as hyperedge_file:\n",
    "        '''\n",
    "        s = \"<\" + str(hyperedge[1]) + \">\"\n",
    "        p = \"<\" + str(hyperedge[0]) + \">\"\n",
    "        o = \"<\" + str(hyperedge[2]) + \">\"\n",
    "        v1 = \"<\" + str(version_start) + \">\"\n",
    "        v2 = \"<\" + str(version_end) + \">\"\n",
    "        '''\n",
    "        s = str(hyperedge[1]) \n",
    "        p =  str(hyperedge[0]) \n",
    "        o =  str(hyperedge[2]) \n",
    "        v1 =  str(version_start)\n",
    "        v2 =   str(version_end) \n",
    "        final_edge= s + \"\\t\" + p + \"\\t\" + o + \"\\t\" + v1 + \"\\t\" + v2\n",
    "        hyperedge_file.write(final_edge + \"\\n\")\n",
    "        hyperedge_file.close()\n"
   ]
  },
  {
   "cell_type": "code",
   "execution_count": 2,
   "metadata": {},
   "outputs": [],
   "source": [
    "\n",
    "g = NQuads(\"/home/dtkhuat/raw_files/allData.nq\", mode = 'r')\n",
    "j = 0\n",
    "for triple in g.parse():\n",
    "    j = j+1\n",
    "    if 'http://example.org/version' in str(triple[3]):\n",
    "        continue\n",
    "    elif 'http://example.org/v' in str(triple[3]):\n",
    "        '''\n",
    "        temp = str(triple[3]).replace('http://example.org/v', '')\n",
    "        '''\n",
    "        temp = re.findall(r'\\d+', str(triple[3]))\n",
    "        i = 0\n",
    "        start = int(temp[i])\n",
    "        end = int(temp[i])\n",
    "        while i < len(temp):\n",
    "            #OUT OF BOUNDS\n",
    "            if i+1 == len(temp):\n",
    "                end = int(temp[i])\n",
    "                #write_hyperedge(\"/home/dtkhuat/preprocessed_files/allData5.txt\", triple[:3], start, end)\n",
    "                write_hyperedge(\"/home/dtkhuat/preprocessed_files/allData5.txt\", triple[:3], int(math.floor(start/8.8)), int(math.floor(end/8.8)))\n",
    "            elif int(temp[i]) +1 == int(temp[i+1]) :\n",
    "                end = int(temp[i+1])\n",
    "            #IF VERSION IS CUT, PRINT VERSION AND INCREASE START AND END\n",
    "            else:\n",
    "                #write_hyperedge(\"/home/dtkhuat/preprocessed_files/allData5.txt\", triple[:3], start, end)\n",
    "                write_hyperedge(\"/home/dtkhuat/preprocessed_files/allData5.txt\", triple[:3], int(math.floor(start/8.8)), int(math.floor(end/8.8)))\n",
    "                start = int(temp[i+1])\n",
    "                end = int(temp[i+1])\n",
    "            i = i+1\n"
   ]
  }
 ],
 "metadata": {
  "kernelspec": {
   "display_name": "Python 3",
   "language": "python",
   "name": "python3"
  },
  "language_info": {
   "codemirror_mode": {
    "name": "ipython",
    "version": 3
   },
   "file_extension": ".py",
   "mimetype": "text/x-python",
   "name": "python",
   "nbconvert_exporter": "python",
   "pygments_lexer": "ipython3",
   "version": "3.11.7"
  }
 },
 "nbformat": 4,
 "nbformat_minor": 2
}
