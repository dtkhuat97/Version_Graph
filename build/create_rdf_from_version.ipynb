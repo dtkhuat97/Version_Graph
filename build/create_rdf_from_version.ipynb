{
 "cells": [
  {
   "cell_type": "code",
   "execution_count": 1,
   "metadata": {},
   "outputs": [],
   "source": [
    "import random\n",
    "import sys\n",
    "from subprocess import call\n",
    "from rdflib import Graph\n",
    "import pprint\n",
    "import random"
   ]
  },
  {
   "cell_type": "code",
   "execution_count": 13,
   "metadata": {},
   "outputs": [],
   "source": [
    "part = \"10\"\n",
    "path_read = \"/home/dtkhuat/preprocessed_files/final2/allData_p\"+ part #CHANGE\n",
    "path_write = \"/home/dtkhuat/preprocessed_files/final3/allData_p\"+ part #CHANGE\n",
    "\n",
    "line_counter = 0\n",
    "prev_line = \"\"\n",
    "with open(path_write, 'a') as file_1, open(path_read, 'r') as file_2:\n",
    "    for line in file_2:\n",
    "        temp = line.split('\\t')\n",
    "        temp2 = temp[0] + \"\\t\" + temp[1] + \"\\t\" +temp[2] + \"\\n\"\n",
    "        file_1.write(temp2)"
   ]
  },
  {
   "cell_type": "code",
   "execution_count": 23,
   "metadata": {},
   "outputs": [],
   "source": [
    "part = \"10\"\n",
    "path_read = \"/home/dtkhuat/preprocessed_files/final_itr_dupes/allData_p\"+ part #CHANGE\n",
    "path_write = \"/home/dtkhuat/preprocessed_files/final_itr_no_dupes/allData_p\" + part  #CHANGE\n",
    "\n",
    "line_counter = 0\n",
    "prev_line = \"\"\n",
    "bla_counter = 0\n",
    "with open(path_write, 'a') as file_1, open(path_read, 'r') as file_2:\n",
    "    for line in file_2:\n",
    "        if line_counter == 0 :\n",
    "            file_1.write(line)\n",
    "        '''\n",
    "        if \"\\\\t\\\\t\" in line:\n",
    "            print(\"hi\")\n",
    "            line = line.replace(\"\\\\t\\\\t\", \"\\\\ty\\\\t\")\n",
    "        '''\n",
    "        if line_counter > 0:\n",
    "            if prev_line == line:\n",
    "                line_counter = line_counter + 1\n",
    "                continue\n",
    "            else:\n",
    "                file_1.write(line)\n",
    "        line_counter = line_counter + 1       \n",
    "        prev_line = line"
   ]
  }
 ],
 "metadata": {
  "kernelspec": {
   "display_name": "Python 3",
   "language": "python",
   "name": "python3"
  },
  "language_info": {
   "codemirror_mode": {
    "name": "ipython",
    "version": 3
   },
   "file_extension": ".py",
   "mimetype": "text/x-python",
   "name": "python",
   "nbconvert_exporter": "python",
   "pygments_lexer": "ipython3",
   "version": "3.11.7"
  }
 },
 "nbformat": 4,
 "nbformat_minor": 2
}
